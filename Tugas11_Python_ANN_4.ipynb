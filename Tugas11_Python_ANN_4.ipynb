{
  "nbformat": 4,
  "nbformat_minor": 0,
  "metadata": {
    "colab": {
      "name": "Copy of Copy of Tugas_Python_ANN_4.ipynb",
      "provenance": [],
      "collapsed_sections": [],
      "include_colab_link": true
    },
    "kernelspec": {
      "display_name": "Python 3",
      "name": "python3"
    }
  },
  "cells": [
    {
      "cell_type": "markdown",
      "metadata": {
        "id": "view-in-github",
        "colab_type": "text"
      },
      "source": [
        "<a href=\"https://colab.research.google.com/github/euisamaraputri/Tugas-10/blob/main/Tugas11_Python_ANN_4.ipynb\" target=\"_parent\"><img src=\"https://colab.research.google.com/assets/colab-badge.svg\" alt=\"Open In Colab\"/></a>"
      ]
    },
    {
      "cell_type": "code",
      "metadata": {
        "colab": {
          "base_uri": "https://localhost:8080/"
        },
        "id": "n-St7xkn5pRe",
        "outputId": "ee907134-0d8b-48ba-ae0a-563a9cfeee9e"
      },
      "source": [
        "from google.colab import drive\n",
        "drive.mount('/content/drive')"
      ],
      "execution_count": 69,
      "outputs": [
        {
          "output_type": "stream",
          "text": [
            "Drive already mounted at /content/drive; to attempt to forcibly remount, call drive.mount(\"/content/drive\", force_remount=True).\n"
          ],
          "name": "stdout"
        }
      ]
    },
    {
      "cell_type": "code",
      "metadata": {
        "colab": {
          "base_uri": "https://localhost:8080/"
        },
        "id": "xALv6-12g7Gu",
        "outputId": "cd648b43-11f7-4da4-94d2-c8b83990656f"
      },
      "source": [
        "cd /content/drive/MyDrive/Colab Notebooks"
      ],
      "execution_count": 70,
      "outputs": [
        {
          "output_type": "stream",
          "text": [
            "/content/drive/MyDrive/Colab Notebooks\n"
          ],
          "name": "stdout"
        }
      ]
    },
    {
      "cell_type": "code",
      "metadata": {
        "colab": {
          "base_uri": "https://localhost:8080/"
        },
        "id": "aHE-yu1liZaL",
        "outputId": "06130c14-2a3e-43a9-ae8c-554009375806"
      },
      "source": [
        "ls"
      ],
      "execution_count": 71,
      "outputs": [
        {
          "output_type": "stream",
          "text": [
            "'Copy of Copy of Tugas_Python_ANN_4.ipynb'   daun.jpg\n",
            " \u001b[0m\u001b[01;34mdataset\u001b[0m/                                    \u001b[01;34mnnmodel_scene\u001b[0m/\n"
          ],
          "name": "stdout"
        }
      ]
    },
    {
      "cell_type": "code",
      "metadata": {
        "id": "mzg79DVriarh"
      },
      "source": [
        "# import the necessary packages\n",
        "from keras.models import Sequential\n",
        "from keras.layers.convolutional import Conv2D\n",
        "from keras.layers.convolutional import MaxPooling2D\n",
        "from keras.layers.core import Activation\n",
        "from keras.layers.core import Flatten\n",
        "from keras.layers.core import Dense\n",
        "from keras.optimizers import Adam\n",
        "from sklearn.preprocessing import LabelBinarizer\n",
        "from sklearn.model_selection import train_test_split\n",
        "from sklearn.metrics import classification_report\n",
        "from PIL import Image\n",
        "from imutils import paths\n",
        "import numpy as np\n",
        "import os"
      ],
      "execution_count": 72,
      "outputs": []
    },
    {
      "cell_type": "code",
      "metadata": {
        "colab": {
          "base_uri": "https://localhost:8080/"
        },
        "id": "3pxKm5oDjiaW",
        "outputId": "7809702a-8b69-474e-cda3-a878019aa1b7"
      },
      "source": [
        "# grab all image paths in the input dataset directory, then initialize\n",
        "# our list of images and corresponding class labels\n",
        "print(\"[INFO] loading images...\")\n",
        "imagePaths = paths.list_images(\"dataset\")\n",
        "data = []\n",
        "labels = []"
      ],
      "execution_count": 73,
      "outputs": [
        {
          "output_type": "stream",
          "text": [
            "[INFO] loading images...\n"
          ],
          "name": "stdout"
        }
      ]
    },
    {
      "cell_type": "code",
      "metadata": {
        "id": "NETxDY4Sjup3"
      },
      "source": [
        "# loop over our input images\n",
        "for imagePath in imagePaths:\n",
        "\t# load the input image from disk, resize it to 64x64 pixels, scale\n",
        "\t# the pixel intensities to the range [0, 1], and then update our\n",
        "\t# images list\n",
        "\timage = Image.open(imagePath)\n",
        "\timage = np.array(image.resize((128, 128))) / 255.0\n",
        "\tdata.append(image)\n",
        "\n",
        "\t# extract the class label from the file path and update the\n",
        "\t# labels list\n",
        "\tlabel = imagePath.split(os.path.sep)[-2]\n",
        "\tlabels.append(label)"
      ],
      "execution_count": 74,
      "outputs": []
    },
    {
      "cell_type": "code",
      "metadata": {
        "colab": {
          "base_uri": "https://localhost:8080/"
        },
        "id": "aV0fQH_wkGNZ",
        "outputId": "1c7fed3a-6d2d-4b5e-ef4e-e209fd88ffef"
      },
      "source": [
        "print(labels)"
      ],
      "execution_count": 75,
      "outputs": [
        {
          "output_type": "stream",
          "text": [
            "['GMB_03', 'GMB_03', 'GMB_03', 'GMB_03', 'GMB_03', 'GMB_03', 'GMB_03', 'GMB_03', 'GMB_03', 'GMB_03', 'GMB_03', 'GMB_03', 'GMB_03', 'GMB_03', 'GMB_03', 'GMB_03', 'GMB_03', 'GMB_03', 'GMB_03', 'GMB_03', 'GMB_03', 'GMB_03', 'GMB_03', 'GMB_03', 'GMB_03', 'GMB_03', 'GMB_03', 'GMB_03', 'GMB_03', 'GMB_03', 'GMB_03', 'GMB_03', 'GMB_03', 'GMB_03', 'GMB_03', 'GMB_03', 'GMB_03', 'GMB_03', 'GMB_03', 'GMB_03', 'GMB_03', 'GMB_03', 'GMB_03', 'GMB_03', 'GMB_03', 'GMB_03', 'GMB_03', 'GMB_03', 'GMB_03', 'GMB_03', 'GMB_03', 'GMB_03', 'GMB_03', 'GMB_03', 'GMB_03', 'GMB_03', 'GMB_03', 'GMB_03', 'GMB_03', 'GMB_03', 'GMB_03', 'GMB_03', 'GMB_03', 'GMB_03', 'GMB_03', 'GMB_03', 'GMB_03', 'GMB_03', 'GMB_03', 'GMB_03', 'GMB_03', 'GMB_03', 'GMB_03', 'GMB_03', 'GMB_03', 'GMB_03', 'GMB_03', 'GMB_03', 'GMB_03', 'GMB_03', 'GMB_03', 'GMB_03', 'GMB_03', 'GMB_03', 'GMB_03', 'GMB_03', 'GMB_03', 'GMB_03', 'GMB_03', 'GMB_03', 'GMB_03', 'GMB_03', 'GMB_03', 'GMB_03', 'GMB_03', 'GMB_03', 'GMB_03', 'GMB_03', 'GMB_03', 'GMB_03', 'GMB_03', 'GMB_03', 'GMB_03', 'GMB_03', 'GMB_03', 'GMB_03', 'GMB_03', 'GMB_03', 'GMB_03', 'GMB_03', 'GMB_03', 'GMB_03', 'GMB_01', 'GMB_01', 'GMB_01', 'GMB_01', 'GMB_01', 'GMB_01', 'GMB_01', 'GMB_01', 'GMB_01', 'GMB_01', 'GMB_01', 'GMB_01', 'GMB_01', 'GMB_01', 'GMB_01', 'GMB_01', 'GMB_01', 'GMB_01', 'GMB_01', 'GMB_01', 'GMB_01', 'GMB_01', 'GMB_01', 'GMB_01', 'GMB_01', 'GMB_01', 'GMB_01', 'GMB_01', 'GMB_01', 'GMB_01', 'GMB_01', 'GMB_01', 'GMB_01', 'GMB_01', 'GMB_01', 'GMB_01', 'GMB_01', 'GMB_01', 'GMB_01', 'GMB_01', 'GMB_01', 'GMB_01', 'GMB_01', 'GMB_01', 'GMB_01', 'GMB_01', 'GMB_01', 'GMB_01', 'GMB_01', 'GMB_01', 'GMB_01', 'GMB_01', 'GMB_01', 'GMB_01', 'GMB_01', 'GMB_01', 'GMB_01', 'GMB_01', 'GMB_01', 'GMB_01', 'GMB_01', 'GMB_01', 'GMB_01', 'GMB_01', 'GMB_01', 'GMB_01', 'GMB_01', 'GMB_01', 'GMB_01', 'GMB_01', 'GMB_01', 'GMB_01', 'GMB_01', 'GMB_01', 'GMB_01', 'GMB_01', 'GMB_01', 'GMB_01', 'GMB_01', 'GMB_01', 'GMB_01', 'GMB_01', 'GMB_01', 'GMB_01', 'GMB_01', 'GMB_01', 'GMB_01', 'GMB_01', 'GMB_01', 'GMB_01', 'GMB_01', 'GMB_01', 'GMB_01', 'GMB_01', 'GMB_01', 'GMB_01', 'GMB_01', 'GMB_01', 'GMB_01', 'GMB_01', 'GMB_01', 'GMB_01', 'GMB_01', 'GMB_01', 'GMB_01', 'GMB_01', 'GMB_01', 'GMB_01', 'GMB_01', 'GMB_01', 'GMB_01', 'GMB_01', 'GMB_01', 'GMB_01', 'GMB_01', 'GMB_01', 'GMB_06', 'GMB_06', 'GMB_06', 'GMB_06', 'GMB_06', 'GMB_06', 'GMB_06', 'GMB_06', 'GMB_06', 'GMB_06', 'GMB_06', 'GMB_06', 'GMB_06', 'GMB_06', 'GMB_06', 'GMB_06', 'GMB_06', 'GMB_06', 'GMB_06', 'GMB_06', 'GMB_06', 'GMB_06', 'GMB_06', 'GMB_06', 'GMB_06', 'GMB_06', 'GMB_06', 'GMB_06', 'GMB_06', 'GMB_06', 'GMB_06', 'GMB_06', 'GMB_06', 'GMB_06', 'GMB_06', 'GMB_06', 'GMB_06', 'GMB_06', 'GMB_06', 'GMB_06', 'GMB_06', 'GMB_06', 'GMB_06', 'GMB_06', 'GMB_06', 'GMB_06', 'GMB_06', 'GMB_06', 'GMB_06', 'GMB_06', 'GMB_06', 'GMB_06', 'GMB_06', 'GMB_06', 'GMB_06', 'GMB_06', 'GMB_06', 'GMB_06', 'GMB_06', 'GMB_06', 'GMB_06', 'GMB_06', 'GMB_06', 'GMB_06', 'GMB_06', 'GMB_06', 'GMB_06', 'GMB_06', 'GMB_06', 'GMB_06', 'GMB_06', 'GMB_06', 'GMB_06', 'GMB_06', 'GMB_06', 'GMB_06', 'GMB_06', 'GMB_06', 'GMB_06', 'GMB_06', 'GMB_06', 'GMB_06', 'GMB_06', 'GMB_06', 'GMB_06', 'GMB_06', 'GMB_06', 'GMB_06', 'GMB_06', 'GMB_06', 'GMB_06', 'GMB_06', 'GMB_06', 'GMB_06', 'GMB_06', 'GMB_06', 'GMB_06', 'GMB_06', 'GMB_06', 'GMB_06', 'GMB_06', 'GMB_06', 'GMB_06', 'GMB_06', 'GMB_06', 'GMB_06', 'GMB_06', 'GMB_06', 'GMB_06', 'GMB_06', 'GMB_06', 'GMB_06', 'GMB_06', 'GMB_06', 'GMB_06', 'GMB_06', 'GMB_06', 'GMB_06', 'GMB_06', 'GMB_06', 'GMB_06', 'GMB_07', 'GMB_07', 'GMB_07', 'GMB_07', 'GMB_07', 'GMB_07', 'GMB_07', 'GMB_07', 'GMB_07', 'GMB_07', 'GMB_07', 'GMB_07', 'GMB_07', 'GMB_07', 'GMB_07', 'GMB_07', 'GMB_07', 'GMB_07', 'GMB_07', 'GMB_07', 'GMB_07', 'GMB_07', 'GMB_07', 'GMB_07', 'GMB_07', 'GMB_07', 'GMB_07', 'GMB_07', 'GMB_07', 'GMB_07', 'GMB_07', 'GMB_07', 'GMB_07', 'GMB_07', 'GMB_07', 'GMB_07', 'GMB_07', 'GMB_07', 'GMB_07', 'GMB_07', 'GMB_07', 'GMB_07', 'GMB_07', 'GMB_07', 'GMB_07', 'GMB_07', 'GMB_07', 'GMB_07', 'GMB_07', 'GMB_07', 'GMB_07', 'GMB_07', 'GMB_07', 'GMB_07', 'GMB_07', 'GMB_07', 'GMB_07', 'GMB_07', 'GMB_07', 'GMB_07', 'GMB_07', 'GMB_07', 'GMB_07', 'GMB_07', 'GMB_07', 'GMB_07', 'GMB_07', 'GMB_07', 'GMB_07', 'GMB_07', 'GMB_07', 'GMB_07', 'GMB_07', 'GMB_07', 'GMB_07', 'GMB_07', 'GMB_07', 'GMB_07', 'GMB_07', 'GMB_07', 'GMB_07', 'GMB_07', 'GMB_07', 'GMB_07', 'GMB_07', 'GMB_07', 'GMB_07', 'GMB_07', 'GMB_07', 'GMB_07', 'GMB_07', 'GMB_07', 'GMB_07', 'GMB_07', 'GMB_07', 'GMB_07', 'GMB_07', 'GMB_07', 'GMB_07', 'GMB_07', 'GMB_07', 'GMB_07', 'GMB_07', 'GMB_07', 'GMB_07', 'GMB_07', 'GMB_07', 'GMB_07', 'GMB_07', 'GMB_07', 'GMB_07', 'GMB_07', 'GMB_07', 'GMB_07', 'GMB_07', 'GMB_07', 'GMB_07', 'GMB_07', 'GMB_07', 'GMB_07', 'GMB_07', 'GMB_09', 'GMB_09', 'GMB_09', 'GMB_09', 'GMB_09', 'GMB_09', 'GMB_09', 'GMB_09', 'GMB_09', 'GMB_09', 'GMB_09', 'GMB_09', 'GMB_09', 'GMB_09', 'GMB_09', 'GMB_09', 'GMB_09', 'GMB_09', 'GMB_09', 'GMB_09', 'GMB_09', 'GMB_09', 'GMB_09', 'GMB_09', 'GMB_09', 'GMB_09', 'GMB_09', 'GMB_09', 'GMB_09', 'GMB_09', 'GMB_09', 'GMB_09', 'GMB_09', 'GMB_09', 'GMB_09', 'GMB_09', 'GMB_09', 'GMB_09', 'GMB_09', 'GMB_09', 'GMB_09', 'GMB_09', 'GMB_09', 'GMB_09', 'GMB_09', 'GMB_09', 'GMB_09', 'GMB_09', 'GMB_09', 'GMB_09', 'GMB_09', 'GMB_09', 'GMB_09', 'GMB_09', 'GMB_09', 'GMB_09', 'GMB_09', 'GMB_09', 'GMB_09', 'GMB_09', 'GMB_09', 'GMB_09', 'GMB_09', 'GMB_09', 'GMB_09', 'GMB_09', 'GMB_09', 'GMB_09', 'GMB_09', 'GMB_09', 'GMB_09', 'GMB_09', 'GMB_09', 'GMB_09', 'GMB_09', 'GMB_09', 'GMB_09', 'GMB_09', 'GMB_09', 'GMB_09', 'GMB_09', 'GMB_09', 'GMB_09', 'GMB_09', 'GMB_09', 'GMB_09', 'GMB_09', 'GMB_09', 'GMB_09', 'GMB_09', 'GMB_09', 'GMB_09', 'GMB_09', 'GMB_09', 'GMB_09', 'GMB_09', 'GMB_09', 'GMB_09', 'GMB_09', 'GMB_09', 'GMB_09', 'GMB_09', 'GMB_09', 'GMB_09', 'GMB_09', 'GMB_09', 'GMB_09', 'GMB_09', 'GMB_09', 'GMB_09', 'GMB_09', 'GMB_09', 'GMB_09', 'GMB_09', 'GMB_09']\n"
          ],
          "name": "stdout"
        }
      ]
    },
    {
      "cell_type": "code",
      "metadata": {
        "id": "hSrlmSAJk7JP"
      },
      "source": [
        "# encode the labels, converting them from strings to integers\n",
        "lb = LabelBinarizer()\n",
        "labels = lb.fit_transform(labels)"
      ],
      "execution_count": 76,
      "outputs": []
    },
    {
      "cell_type": "code",
      "metadata": {
        "colab": {
          "base_uri": "https://localhost:8080/"
        },
        "id": "EWYQCQxQqXA1",
        "outputId": "d149091a-030f-4a8e-b34b-e5ba781f229c"
      },
      "source": [
        "print(labels)"
      ],
      "execution_count": 77,
      "outputs": [
        {
          "output_type": "stream",
          "text": [
            "[[0 1 0 0 0]\n",
            " [0 1 0 0 0]\n",
            " [0 1 0 0 0]\n",
            " ...\n",
            " [0 0 0 0 1]\n",
            " [0 0 0 0 1]\n",
            " [0 0 0 0 1]]\n"
          ],
          "name": "stdout"
        }
      ]
    },
    {
      "cell_type": "code",
      "metadata": {
        "colab": {
          "base_uri": "https://localhost:8080/"
        },
        "id": "VTsrry2yrLsT",
        "outputId": "11afb821-6cf6-4f39-bcd8-dfb96ac53245"
      },
      "source": [
        "# perform a training and testing split, using 75% of the data for\n",
        "# training and 25% for evaluation\n",
        "(trainX, testX, trainY, testY) = train_test_split(np.array(data),\tnp.array(labels), test_size=0.25, shuffle=True)\n",
        "print(trainX.shape)\n",
        "print(testX.shape)"
      ],
      "execution_count": 78,
      "outputs": [
        {
          "output_type": "stream",
          "text": [
            "(438, 128, 128, 3)\n",
            "(147, 128, 128, 3)\n"
          ],
          "name": "stdout"
        }
      ]
    },
    {
      "cell_type": "code",
      "metadata": {
        "colab": {
          "base_uri": "https://localhost:8080/"
        },
        "id": "vkMTTXFfd-f9",
        "outputId": "37e6812c-4433-4bf3-e0ac-1f8480207ab1"
      },
      "source": [
        "from keras.layers import Convolution2D, MaxPooling2D\n",
        "from keras.models import Sequential\n",
        "from keras.layers.core import Flatten, Dense\n",
        "\n",
        "model1 = Sequential()\n",
        "model1.add(Convolution2D(8, 3,3, activation='relu', input_shape=(128,128,3)))\n",
        "model1.add(MaxPooling2D(2,2))\n",
        "model1.add(Convolution2D(16, 3,3, activation='relu'))\n",
        "model1.add(MaxPooling2D(2,2))\n",
        "#fully connected layer\n",
        "model1.add(Flatten())\n",
        "model1.add(Dense(100, activation='relu'))\n",
        "model1.add(Dense(5, activation='softmax'))\n",
        "\n",
        "model1.summary()"
      ],
      "execution_count": 79,
      "outputs": [
        {
          "output_type": "stream",
          "text": [
            "Model: \"sequential_2\"\n",
            "_________________________________________________________________\n",
            "Layer (type)                 Output Shape              Param #   \n",
            "=================================================================\n",
            "conv2d_4 (Conv2D)            (None, 42, 42, 8)         224       \n",
            "_________________________________________________________________\n",
            "max_pooling2d_4 (MaxPooling2 (None, 21, 21, 8)         0         \n",
            "_________________________________________________________________\n",
            "conv2d_5 (Conv2D)            (None, 7, 7, 16)          1168      \n",
            "_________________________________________________________________\n",
            "max_pooling2d_5 (MaxPooling2 (None, 3, 3, 16)          0         \n",
            "_________________________________________________________________\n",
            "flatten_2 (Flatten)          (None, 144)               0         \n",
            "_________________________________________________________________\n",
            "dense_4 (Dense)              (None, 100)               14500     \n",
            "_________________________________________________________________\n",
            "dense_5 (Dense)              (None, 5)                 505       \n",
            "=================================================================\n",
            "Total params: 16,397\n",
            "Trainable params: 16,397\n",
            "Non-trainable params: 0\n",
            "_________________________________________________________________\n"
          ],
          "name": "stdout"
        }
      ]
    },
    {
      "cell_type": "code",
      "metadata": {
        "colab": {
          "base_uri": "https://localhost:8080/"
        },
        "id": "A4yCU17ptCCq",
        "outputId": "3ac9b181-9ddb-4342-be5f-67801bc862ce"
      },
      "source": [
        "# train the model using the Adam optimizer\n",
        "print(\"[INFO] training network...\")\n",
        "opt = Adam(lr=1e-3, decay=1e-3 / 50)\n",
        "model1.compile(loss=\"categorical_crossentropy\", optimizer=opt,\n",
        "\tmetrics=[\"accuracy\"])"
      ],
      "execution_count": 94,
      "outputs": [
        {
          "output_type": "stream",
          "text": [
            "[INFO] training network...\n"
          ],
          "name": "stdout"
        }
      ]
    },
    {
      "cell_type": "code",
      "metadata": {
        "id": "MAhfaJl2KmtV",
        "colab": {
          "base_uri": "https://localhost:8080/"
        },
        "outputId": "4ae1e49b-f6d6-4f91-aa62-51b9a7a8f94a"
      },
      "source": [
        "H = model1.fit(trainX, trainY, validation_data=(testX, testY), epochs=100, batch_size=128)"
      ],
      "execution_count": 95,
      "outputs": [
        {
          "output_type": "stream",
          "text": [
            "Epoch 1/100\n",
            "4/4 [==============================] - 0s 122ms/step - loss: 0.2257 - accuracy: 0.9155 - val_loss: 1.2312 - val_accuracy: 0.6803\n",
            "Epoch 2/100\n",
            "4/4 [==============================] - 0s 80ms/step - loss: 0.2222 - accuracy: 0.9292 - val_loss: 1.1180 - val_accuracy: 0.7347\n",
            "Epoch 3/100\n",
            "4/4 [==============================] - 0s 69ms/step - loss: 0.1578 - accuracy: 0.9475 - val_loss: 1.0025 - val_accuracy: 0.7551\n",
            "Epoch 4/100\n",
            "4/4 [==============================] - 0s 74ms/step - loss: 0.1325 - accuracy: 0.9726 - val_loss: 1.1260 - val_accuracy: 0.7007\n",
            "Epoch 5/100\n",
            "4/4 [==============================] - 0s 70ms/step - loss: 0.1339 - accuracy: 0.9726 - val_loss: 1.0341 - val_accuracy: 0.7347\n",
            "Epoch 6/100\n",
            "4/4 [==============================] - 0s 69ms/step - loss: 0.1180 - accuracy: 0.9726 - val_loss: 1.0286 - val_accuracy: 0.7483\n",
            "Epoch 7/100\n",
            "4/4 [==============================] - 0s 72ms/step - loss: 0.1145 - accuracy: 0.9817 - val_loss: 1.0850 - val_accuracy: 0.6871\n",
            "Epoch 8/100\n",
            "4/4 [==============================] - 0s 69ms/step - loss: 0.1123 - accuracy: 0.9772 - val_loss: 1.0293 - val_accuracy: 0.7347\n",
            "Epoch 9/100\n",
            "4/4 [==============================] - 0s 69ms/step - loss: 0.1075 - accuracy: 0.9817 - val_loss: 1.0647 - val_accuracy: 0.7415\n",
            "Epoch 10/100\n",
            "4/4 [==============================] - 0s 73ms/step - loss: 0.1112 - accuracy: 0.9795 - val_loss: 1.0534 - val_accuracy: 0.7211\n",
            "Epoch 11/100\n",
            "4/4 [==============================] - 0s 70ms/step - loss: 0.1053 - accuracy: 0.9817 - val_loss: 1.0758 - val_accuracy: 0.7211\n",
            "Epoch 12/100\n",
            "4/4 [==============================] - 0s 70ms/step - loss: 0.1024 - accuracy: 0.9795 - val_loss: 1.0479 - val_accuracy: 0.7143\n",
            "Epoch 13/100\n",
            "4/4 [==============================] - 0s 71ms/step - loss: 0.1195 - accuracy: 0.9772 - val_loss: 1.0901 - val_accuracy: 0.7211\n",
            "Epoch 14/100\n",
            "4/4 [==============================] - 0s 70ms/step - loss: 0.1085 - accuracy: 0.9749 - val_loss: 1.0555 - val_accuracy: 0.7007\n",
            "Epoch 15/100\n",
            "4/4 [==============================] - 0s 71ms/step - loss: 0.1088 - accuracy: 0.9726 - val_loss: 1.0807 - val_accuracy: 0.7347\n",
            "Epoch 16/100\n",
            "4/4 [==============================] - 0s 69ms/step - loss: 0.0973 - accuracy: 0.9817 - val_loss: 1.0810 - val_accuracy: 0.7279\n",
            "Epoch 17/100\n",
            "4/4 [==============================] - 0s 70ms/step - loss: 0.0969 - accuracy: 0.9817 - val_loss: 1.0672 - val_accuracy: 0.7279\n",
            "Epoch 18/100\n",
            "4/4 [==============================] - 0s 73ms/step - loss: 0.0972 - accuracy: 0.9772 - val_loss: 1.0805 - val_accuracy: 0.7415\n",
            "Epoch 19/100\n",
            "4/4 [==============================] - 0s 70ms/step - loss: 0.0983 - accuracy: 0.9886 - val_loss: 1.1138 - val_accuracy: 0.7075\n",
            "Epoch 20/100\n",
            "4/4 [==============================] - 0s 72ms/step - loss: 0.0987 - accuracy: 0.9772 - val_loss: 1.0891 - val_accuracy: 0.7143\n",
            "Epoch 21/100\n",
            "4/4 [==============================] - 0s 71ms/step - loss: 0.1026 - accuracy: 0.9840 - val_loss: 1.0728 - val_accuracy: 0.7279\n",
            "Epoch 22/100\n",
            "4/4 [==============================] - 0s 71ms/step - loss: 0.0986 - accuracy: 0.9795 - val_loss: 1.1259 - val_accuracy: 0.7211\n",
            "Epoch 23/100\n",
            "4/4 [==============================] - 0s 69ms/step - loss: 0.0975 - accuracy: 0.9863 - val_loss: 1.0723 - val_accuracy: 0.7279\n",
            "Epoch 24/100\n",
            "4/4 [==============================] - 0s 71ms/step - loss: 0.0928 - accuracy: 0.9817 - val_loss: 1.1403 - val_accuracy: 0.7143\n",
            "Epoch 25/100\n",
            "4/4 [==============================] - 0s 69ms/step - loss: 0.0946 - accuracy: 0.9909 - val_loss: 1.0678 - val_accuracy: 0.7415\n",
            "Epoch 26/100\n",
            "4/4 [==============================] - 0s 72ms/step - loss: 0.0933 - accuracy: 0.9795 - val_loss: 1.1191 - val_accuracy: 0.7279\n",
            "Epoch 27/100\n",
            "4/4 [==============================] - 0s 70ms/step - loss: 0.0911 - accuracy: 0.9840 - val_loss: 1.1109 - val_accuracy: 0.7279\n",
            "Epoch 28/100\n",
            "4/4 [==============================] - 0s 72ms/step - loss: 0.0857 - accuracy: 0.9840 - val_loss: 1.0937 - val_accuracy: 0.7483\n",
            "Epoch 29/100\n",
            "4/4 [==============================] - 0s 73ms/step - loss: 0.0851 - accuracy: 0.9863 - val_loss: 1.1357 - val_accuracy: 0.7075\n",
            "Epoch 30/100\n",
            "4/4 [==============================] - 0s 69ms/step - loss: 0.0786 - accuracy: 0.9909 - val_loss: 1.1178 - val_accuracy: 0.7347\n",
            "Epoch 31/100\n",
            "4/4 [==============================] - 0s 69ms/step - loss: 0.0802 - accuracy: 0.9886 - val_loss: 1.1007 - val_accuracy: 0.7347\n",
            "Epoch 32/100\n",
            "4/4 [==============================] - 0s 72ms/step - loss: 0.0839 - accuracy: 0.9817 - val_loss: 1.1727 - val_accuracy: 0.7211\n",
            "Epoch 33/100\n",
            "4/4 [==============================] - 0s 71ms/step - loss: 0.0897 - accuracy: 0.9886 - val_loss: 1.1042 - val_accuracy: 0.7075\n",
            "Epoch 34/100\n",
            "4/4 [==============================] - 0s 71ms/step - loss: 0.0911 - accuracy: 0.9795 - val_loss: 1.1581 - val_accuracy: 0.7347\n",
            "Epoch 35/100\n",
            "4/4 [==============================] - 0s 73ms/step - loss: 0.1076 - accuracy: 0.9726 - val_loss: 1.1473 - val_accuracy: 0.7007\n",
            "Epoch 36/100\n",
            "4/4 [==============================] - 0s 71ms/step - loss: 0.0854 - accuracy: 0.9886 - val_loss: 1.1710 - val_accuracy: 0.7211\n",
            "Epoch 37/100\n",
            "4/4 [==============================] - 0s 72ms/step - loss: 0.0859 - accuracy: 0.9817 - val_loss: 1.0980 - val_accuracy: 0.7279\n",
            "Epoch 38/100\n",
            "4/4 [==============================] - 0s 69ms/step - loss: 0.0763 - accuracy: 0.9909 - val_loss: 1.1336 - val_accuracy: 0.7075\n",
            "Epoch 39/100\n",
            "4/4 [==============================] - 0s 69ms/step - loss: 0.0737 - accuracy: 0.9840 - val_loss: 1.0953 - val_accuracy: 0.7347\n",
            "Epoch 40/100\n",
            "4/4 [==============================] - 0s 71ms/step - loss: 0.0710 - accuracy: 0.9932 - val_loss: 1.1403 - val_accuracy: 0.7143\n",
            "Epoch 41/100\n",
            "4/4 [==============================] - 0s 70ms/step - loss: 0.0678 - accuracy: 0.9886 - val_loss: 1.1223 - val_accuracy: 0.7415\n",
            "Epoch 42/100\n",
            "4/4 [==============================] - 0s 73ms/step - loss: 0.0675 - accuracy: 0.9932 - val_loss: 1.1263 - val_accuracy: 0.7415\n",
            "Epoch 43/100\n",
            "4/4 [==============================] - 0s 71ms/step - loss: 0.0738 - accuracy: 0.9863 - val_loss: 1.1709 - val_accuracy: 0.7075\n",
            "Epoch 44/100\n",
            "4/4 [==============================] - 0s 72ms/step - loss: 0.0684 - accuracy: 0.9932 - val_loss: 1.1328 - val_accuracy: 0.7143\n",
            "Epoch 45/100\n",
            "4/4 [==============================] - 0s 73ms/step - loss: 0.0694 - accuracy: 0.9909 - val_loss: 1.1480 - val_accuracy: 0.7143\n",
            "Epoch 46/100\n",
            "4/4 [==============================] - 0s 70ms/step - loss: 0.0690 - accuracy: 0.9863 - val_loss: 1.1615 - val_accuracy: 0.7075\n",
            "Epoch 47/100\n",
            "4/4 [==============================] - 0s 71ms/step - loss: 0.0671 - accuracy: 0.9954 - val_loss: 1.1499 - val_accuracy: 0.7415\n",
            "Epoch 48/100\n",
            "4/4 [==============================] - 0s 73ms/step - loss: 0.0689 - accuracy: 0.9863 - val_loss: 1.1451 - val_accuracy: 0.7143\n",
            "Epoch 49/100\n",
            "4/4 [==============================] - 0s 73ms/step - loss: 0.0639 - accuracy: 0.9886 - val_loss: 1.1772 - val_accuracy: 0.7279\n",
            "Epoch 50/100\n",
            "4/4 [==============================] - 0s 74ms/step - loss: 0.0721 - accuracy: 0.9954 - val_loss: 1.1563 - val_accuracy: 0.7143\n",
            "Epoch 51/100\n",
            "4/4 [==============================] - 0s 73ms/step - loss: 0.0713 - accuracy: 0.9886 - val_loss: 1.1686 - val_accuracy: 0.7211\n",
            "Epoch 52/100\n",
            "4/4 [==============================] - 0s 70ms/step - loss: 0.0657 - accuracy: 0.9932 - val_loss: 1.1535 - val_accuracy: 0.7211\n",
            "Epoch 53/100\n",
            "4/4 [==============================] - 0s 71ms/step - loss: 0.0593 - accuracy: 0.9977 - val_loss: 1.1826 - val_accuracy: 0.7211\n",
            "Epoch 54/100\n",
            "4/4 [==============================] - 0s 73ms/step - loss: 0.0559 - accuracy: 0.9954 - val_loss: 1.1649 - val_accuracy: 0.7347\n",
            "Epoch 55/100\n",
            "4/4 [==============================] - 0s 71ms/step - loss: 0.0546 - accuracy: 0.9932 - val_loss: 1.1807 - val_accuracy: 0.7279\n",
            "Epoch 56/100\n",
            "4/4 [==============================] - 0s 71ms/step - loss: 0.0539 - accuracy: 0.9977 - val_loss: 1.1834 - val_accuracy: 0.7347\n",
            "Epoch 57/100\n",
            "4/4 [==============================] - 0s 72ms/step - loss: 0.0516 - accuracy: 1.0000 - val_loss: 1.1649 - val_accuracy: 0.7347\n",
            "Epoch 58/100\n",
            "4/4 [==============================] - 0s 71ms/step - loss: 0.0569 - accuracy: 0.9932 - val_loss: 1.2024 - val_accuracy: 0.7279\n",
            "Epoch 59/100\n",
            "4/4 [==============================] - 0s 71ms/step - loss: 0.0573 - accuracy: 0.9954 - val_loss: 1.1547 - val_accuracy: 0.7279\n",
            "Epoch 60/100\n",
            "4/4 [==============================] - 0s 71ms/step - loss: 0.0564 - accuracy: 0.9954 - val_loss: 1.2049 - val_accuracy: 0.7143\n",
            "Epoch 61/100\n",
            "4/4 [==============================] - 0s 69ms/step - loss: 0.0534 - accuracy: 0.9977 - val_loss: 1.2163 - val_accuracy: 0.7075\n",
            "Epoch 62/100\n",
            "4/4 [==============================] - 0s 68ms/step - loss: 0.0605 - accuracy: 0.9886 - val_loss: 1.2764 - val_accuracy: 0.7415\n",
            "Epoch 63/100\n",
            "4/4 [==============================] - 0s 73ms/step - loss: 0.0687 - accuracy: 0.9886 - val_loss: 1.2000 - val_accuracy: 0.7075\n",
            "Epoch 64/100\n",
            "4/4 [==============================] - 0s 72ms/step - loss: 0.0512 - accuracy: 0.9954 - val_loss: 1.2594 - val_accuracy: 0.7347\n",
            "Epoch 65/100\n",
            "4/4 [==============================] - 0s 72ms/step - loss: 0.0628 - accuracy: 0.9954 - val_loss: 1.1779 - val_accuracy: 0.7143\n",
            "Epoch 66/100\n",
            "4/4 [==============================] - 0s 71ms/step - loss: 0.0696 - accuracy: 0.9817 - val_loss: 1.1825 - val_accuracy: 0.7483\n",
            "Epoch 67/100\n",
            "4/4 [==============================] - 0s 75ms/step - loss: 0.0589 - accuracy: 0.9909 - val_loss: 1.2183 - val_accuracy: 0.7347\n",
            "Epoch 68/100\n",
            "4/4 [==============================] - 0s 76ms/step - loss: 0.0580 - accuracy: 0.9954 - val_loss: 1.1847 - val_accuracy: 0.7415\n",
            "Epoch 69/100\n",
            "4/4 [==============================] - 0s 71ms/step - loss: 0.0615 - accuracy: 0.9977 - val_loss: 1.2429 - val_accuracy: 0.7075\n",
            "Epoch 70/100\n",
            "4/4 [==============================] - 0s 72ms/step - loss: 0.0587 - accuracy: 0.9954 - val_loss: 1.1986 - val_accuracy: 0.7211\n",
            "Epoch 71/100\n",
            "4/4 [==============================] - 0s 69ms/step - loss: 0.0526 - accuracy: 0.9932 - val_loss: 1.2093 - val_accuracy: 0.7347\n",
            "Epoch 72/100\n",
            "4/4 [==============================] - 0s 70ms/step - loss: 0.0498 - accuracy: 1.0000 - val_loss: 1.2779 - val_accuracy: 0.7143\n",
            "Epoch 73/100\n",
            "4/4 [==============================] - 0s 73ms/step - loss: 0.0487 - accuracy: 0.9977 - val_loss: 1.2238 - val_accuracy: 0.7075\n",
            "Epoch 74/100\n",
            "4/4 [==============================] - 0s 70ms/step - loss: 0.0478 - accuracy: 0.9977 - val_loss: 1.2251 - val_accuracy: 0.7415\n",
            "Epoch 75/100\n",
            "4/4 [==============================] - 0s 73ms/step - loss: 0.0479 - accuracy: 0.9977 - val_loss: 1.2724 - val_accuracy: 0.7075\n",
            "Epoch 76/100\n",
            "4/4 [==============================] - 0s 71ms/step - loss: 0.0654 - accuracy: 0.9863 - val_loss: 1.3172 - val_accuracy: 0.7415\n",
            "Epoch 77/100\n",
            "4/4 [==============================] - 0s 70ms/step - loss: 0.0652 - accuracy: 0.9909 - val_loss: 1.2404 - val_accuracy: 0.7143\n",
            "Epoch 78/100\n",
            "4/4 [==============================] - 0s 74ms/step - loss: 0.0621 - accuracy: 0.9932 - val_loss: 1.3826 - val_accuracy: 0.7143\n",
            "Epoch 79/100\n",
            "4/4 [==============================] - 0s 70ms/step - loss: 0.0545 - accuracy: 0.9977 - val_loss: 1.2803 - val_accuracy: 0.6939\n",
            "Epoch 80/100\n",
            "4/4 [==============================] - 0s 71ms/step - loss: 0.0706 - accuracy: 0.9795 - val_loss: 1.3547 - val_accuracy: 0.7347\n",
            "Epoch 81/100\n",
            "4/4 [==============================] - 0s 73ms/step - loss: 0.0667 - accuracy: 0.9863 - val_loss: 1.2822 - val_accuracy: 0.6939\n",
            "Epoch 82/100\n",
            "4/4 [==============================] - 0s 71ms/step - loss: 0.0685 - accuracy: 0.9817 - val_loss: 1.3799 - val_accuracy: 0.7143\n",
            "Epoch 83/100\n",
            "4/4 [==============================] - 0s 73ms/step - loss: 0.0674 - accuracy: 0.9863 - val_loss: 1.2300 - val_accuracy: 0.7075\n",
            "Epoch 84/100\n",
            "4/4 [==============================] - 0s 73ms/step - loss: 0.0647 - accuracy: 0.9886 - val_loss: 1.3368 - val_accuracy: 0.7007\n",
            "Epoch 85/100\n",
            "4/4 [==============================] - 0s 69ms/step - loss: 0.0514 - accuracy: 0.9954 - val_loss: 1.2339 - val_accuracy: 0.7211\n",
            "Epoch 86/100\n",
            "4/4 [==============================] - 0s 73ms/step - loss: 0.0446 - accuracy: 0.9954 - val_loss: 1.2704 - val_accuracy: 0.7211\n",
            "Epoch 87/100\n",
            "4/4 [==============================] - 0s 70ms/step - loss: 0.0426 - accuracy: 1.0000 - val_loss: 1.2585 - val_accuracy: 0.7279\n",
            "Epoch 88/100\n",
            "4/4 [==============================] - 0s 71ms/step - loss: 0.0426 - accuracy: 0.9977 - val_loss: 1.2876 - val_accuracy: 0.7211\n",
            "Epoch 89/100\n",
            "4/4 [==============================] - 0s 71ms/step - loss: 0.0437 - accuracy: 0.9977 - val_loss: 1.2467 - val_accuracy: 0.7211\n",
            "Epoch 90/100\n",
            "4/4 [==============================] - 0s 71ms/step - loss: 0.0345 - accuracy: 1.0000 - val_loss: 1.2988 - val_accuracy: 0.7279\n",
            "Epoch 91/100\n",
            "4/4 [==============================] - 0s 73ms/step - loss: 0.0370 - accuracy: 0.9977 - val_loss: 1.2934 - val_accuracy: 0.7211\n",
            "Epoch 92/100\n",
            "4/4 [==============================] - 0s 70ms/step - loss: 0.0319 - accuracy: 1.0000 - val_loss: 1.2410 - val_accuracy: 0.7347\n",
            "Epoch 93/100\n",
            "4/4 [==============================] - 0s 72ms/step - loss: 0.0334 - accuracy: 1.0000 - val_loss: 1.3044 - val_accuracy: 0.7143\n",
            "Epoch 94/100\n",
            "4/4 [==============================] - 0s 74ms/step - loss: 0.0362 - accuracy: 1.0000 - val_loss: 1.3099 - val_accuracy: 0.7279\n",
            "Epoch 95/100\n",
            "4/4 [==============================] - 0s 72ms/step - loss: 0.0320 - accuracy: 1.0000 - val_loss: 1.2531 - val_accuracy: 0.7279\n",
            "Epoch 96/100\n",
            "4/4 [==============================] - 0s 69ms/step - loss: 0.0367 - accuracy: 1.0000 - val_loss: 1.2978 - val_accuracy: 0.7211\n",
            "Epoch 97/100\n",
            "4/4 [==============================] - 0s 74ms/step - loss: 0.0336 - accuracy: 1.0000 - val_loss: 1.3230 - val_accuracy: 0.7211\n",
            "Epoch 98/100\n",
            "4/4 [==============================] - 0s 72ms/step - loss: 0.0361 - accuracy: 1.0000 - val_loss: 1.2620 - val_accuracy: 0.7279\n",
            "Epoch 99/100\n",
            "4/4 [==============================] - 0s 71ms/step - loss: 0.0323 - accuracy: 1.0000 - val_loss: 1.3242 - val_accuracy: 0.7279\n",
            "Epoch 100/100\n",
            "4/4 [==============================] - 0s 70ms/step - loss: 0.0299 - accuracy: 1.0000 - val_loss: 1.3140 - val_accuracy: 0.7143\n"
          ],
          "name": "stdout"
        }
      ]
    },
    {
      "cell_type": "code",
      "metadata": {
        "id": "6ku8v7Q0thfq",
        "colab": {
          "base_uri": "https://localhost:8080/",
          "height": 590
        },
        "outputId": "1302a96e-e49b-423c-e25c-32e37fbc04b9"
      },
      "source": [
        "import matplotlib.pyplot as plt\n",
        "\n",
        "print(H.history.keys())\n",
        "# summarize history for accuracy \n",
        "plt.plot(H.history['accuracy'])\n",
        "plt.plot(H.history['val_accuracy'])\n",
        "plt.title('model accuracy')\n",
        "plt.ylabel('accuracy')\n",
        "plt.xlabel('epoch')\n",
        "plt.legend(['train', 'test'], loc='upper left')\n",
        "plt.show()\n",
        "# summarize history for loss\n",
        "plt.plot(H.history['loss'])\n",
        "plt.plot(H.history['val_loss'])\n",
        "plt.title('model loss')\n",
        "plt.ylabel('loss')\n",
        "plt.xlabel('epoch')\n",
        "plt.legend(['train', 'test'], loc='upper left')\n",
        "plt.show()"
      ],
      "execution_count": 96,
      "outputs": [
        {
          "output_type": "stream",
          "text": [
            "dict_keys(['loss', 'accuracy', 'val_loss', 'val_accuracy'])\n"
          ],
          "name": "stdout"
        },
        {
          "output_type": "display_data",
          "data": {
            "image/png": "[encoded data removed]",
            "text/plain": [
              "<Figure size 432x288 with 1 Axes>"
            ]
          },
          "metadata": {
            "tags": [],
            "needs_background": "light"
          }
        },
        {
          "output_type": "display_data",
          "data": {
            "image/png": "[encoded data removed]",
            "text/plain": [
              "<Figure size 432x288 with 1 Axes>"
            ]
          },
          "metadata": {
            "tags": [],
            "needs_background": "light"
          }
        }
      ]
    },
    {
      "cell_type": "code",
      "metadata": {
        "id": "dB_4cjxLubG_",
        "colab": {
          "base_uri": "https://localhost:8080/"
        },
        "outputId": "480738f7-028c-4898-dee2-4dd6be1391b1"
      },
      "source": [
        "# evaluate the network\n",
        "print(\"[INFO] evaluating network...\")\n",
        "predictions = model1.predict(testX, batch_size=32)\n",
        "print(classification_report(testY.argmax(axis=1),\n",
        "\tpredictions.argmax(axis=1), target_names=lb.classes_))"
      ],
      "execution_count": 97,
      "outputs": [
        {
          "output_type": "stream",
          "text": [
            "[INFO] evaluating network...\n",
            "              precision    recall  f1-score   support\n",
            "\n",
            "      GMB_01       0.59      0.79      0.68        28\n",
            "      GMB_03       0.80      0.73      0.76        22\n",
            "      GMB_06       0.68      0.68      0.68        37\n",
            "      GMB_07       0.81      0.71      0.76        35\n",
            "      GMB_09       0.77      0.68      0.72        25\n",
            "\n",
            "    accuracy                           0.71       147\n",
            "   macro avg       0.73      0.72      0.72       147\n",
            "weighted avg       0.73      0.71      0.72       147\n",
            "\n"
          ],
          "name": "stdout"
        }
      ]
    },
    {
      "cell_type": "code",
      "metadata": {
        "id": "rnB3BXUqu3D_",
        "colab": {
          "base_uri": "https://localhost:8080/"
        },
        "outputId": "31aeed71-cb88-47e5-897e-c2367da97d7f"
      },
      "source": [
        "model1.save('nnmodel_scene')"
      ],
      "execution_count": 98,
      "outputs": [
        {
          "output_type": "stream",
          "text": [
            "INFO:tensorflow:Assets written to: nnmodel_scene/assets\n"
          ],
          "name": "stdout"
        }
      ]
    },
    {
      "cell_type": "code",
      "metadata": {
        "id": "kosnwuOGvHL4"
      },
      "source": [
        "import cv2\n",
        "import matplotlib.pyplot as plt\n",
        "image1='daun.jpg'"
      ],
      "execution_count": 99,
      "outputs": []
    },
    {
      "cell_type": "code",
      "metadata": {
        "id": "V1VcY4OjvYN2",
        "colab": {
          "base_uri": "https://localhost:8080/",
          "height": 269
        },
        "outputId": "2b8b7963-86ca-4de2-d390-79f3e4ac03ae"
      },
      "source": [
        "img_array = cv2.imread(image1)\n",
        "plt.imshow(img_array)\n",
        "plt.show()\n",
        "# print(type(img_array))"
      ],
      "execution_count": 100,
      "outputs": [
        {
          "output_type": "display_data",
          "data": {
            "image/png": "[encoded data removed]",
            "text/plain": [
              "<Figure size 432x288 with 1 Axes>"
            ]
          },
          "metadata": {
            "tags": [],
            "needs_background": "light"
          }
        }
      ]
    },
    {
      "cell_type": "code",
      "metadata": {
        "id": "I4KsSSEqva_n",
        "colab": {
          "base_uri": "https://localhost:8080/"
        },
        "outputId": "08be20f3-cddd-4b7c-ab42-d9b2250bcf85"
      },
      "source": [
        "image_testing = Image.open('daun.jpg')\n",
        "image_testing = np.array(image_testing.resize((128, 128))) / 255.0\n",
        "image_testing.shape"
      ],
      "execution_count": 101,
      "outputs": [
        {
          "output_type": "execute_result",
          "data": {
            "text/plain": [
              "(128, 128, 3)"
            ]
          },
          "metadata": {
            "tags": []
          },
          "execution_count": 101
        }
      ]
    },
    {
      "cell_type": "code",
      "metadata": {
        "id": "FAHFaF_Dvum_",
        "colab": {
          "base_uri": "https://localhost:8080/"
        },
        "outputId": "9d285c55-64c5-4135-900f-0ad36b60b085"
      },
      "source": [
        "image_testing = np.expand_dims(image_testing, axis=0)\n",
        "print(image_testing.shape)"
      ],
      "execution_count": 102,
      "outputs": [
        {
          "output_type": "stream",
          "text": [
            "(1, 128, 128, 3)\n"
          ],
          "name": "stdout"
        }
      ]
    },
    {
      "cell_type": "code",
      "metadata": {
        "id": "bg27ppvtvySn",
        "colab": {
          "base_uri": "https://localhost:8080/"
        },
        "outputId": "3134b7fb-c332-4f9f-b480-de6d06e39715"
      },
      "source": [
        "output = model1.predict(image_testing, 1)\n",
        "print(output)\n",
        "print(lb.classes_[output.argmax(axis=1)])"
      ],
      "execution_count": 103,
      "outputs": [
        {
          "output_type": "stream",
          "text": [
            "[[9.9998784e-01 2.0754722e-09 1.8288890e-09 1.2107314e-05 1.8277782e-11]]\n",
            "['GMB_01']\n"
          ],
          "name": "stdout"
        }
      ]
    },
    {
      "cell_type": "code",
      "metadata": {
        "id": "CGRRXS34sIoh"
      },
      "source": [
        ""
      ],
      "execution_count": 89,
      "outputs": []
    }
  ]
}